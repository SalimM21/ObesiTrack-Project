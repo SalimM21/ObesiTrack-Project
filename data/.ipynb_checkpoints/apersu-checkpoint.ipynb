{
 "cells": [
  {
   "cell_type": "code",
   "execution_count": null,
   "id": "4340220d",
   "metadata": {
    "vscode": {
     "languageId": "plaintext"
    }
   },
   "outputs": [],
   "source": [
    "# Variable chargée 'df' à partir de l’URI : c:\\Users\\PC\\Desktop\\sprint3\\ObesiTrack-Project\\data\\ObesityDataSet_raw_and_data_sinthetic.csv\n",
    "import pandas as pd\n",
    "df = pd.read_csv(r'c:\\Users\\PC\\Desktop\\sprint3\\ObesiTrack-Project\\data\\ObesityDataSet_raw_and_data_sinthetic.csv')"
   ]
  }
 ],
 "metadata": {
  "language_info": {
   "name": "python"
  }
 },
 "nbformat": 4,
 "nbformat_minor": 5
}
